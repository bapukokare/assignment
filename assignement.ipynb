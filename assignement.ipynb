#Assignement1 

File name: example.txt



Origin file content: This is a placement assignment


Replace string Placement should be replaced by: screening.


Replaced file content: This is a screening assignment


# create file example.txt 


#create file adn write text to file 
with open('example.txt' , 'w') as f: 
    f.write('This is a placement assignment')
#replace placement 
#read input_file and read data at string 
input_file = open("example.txt", "rt")
data = input_file.read()
#replace placement word by screening 
data = data.replace('placement', 'screening')
#open the input file in write mode
input_file = open("example.txt", "wt")
#overrite the input file with the resulting data
input_file.write(data)
#close the file
input_file.close()
Demonstrate use of abstract class, multiple inheritance and decorator in
python using examples.

#Abstraction : hide implementation level directly gives the result.  Do not give information of logic implementation 

from abc import ABC
class geometric(ABC):
    def volume(self):
        #abstract method
        pass
class Rect(geometric):
    length = 4
    width = 6
    height= 6
def volume(self):
    return self.length * self.width *self.height
class Sphere(geometric):
    radius = 8
def volume(self):
    return 1.3 * 3.14 * self.radius * self.radius *self.radius
class Cube(geometric):
    Edge = 5
def volume(self):
    return self.Edge * self.Edge *self.Edge
class triangle_3D:
    length = 5
    width = 4
def volume(self):
    return 0.5 * self.length * self.width
    rr = Rect()
    ss = Sphere()
    cc = Cube()
    tt = triangle_3D()
    print("Volume of a rectangle:", rr.volume())
    print("Volume of a circle:", ss.volume())
    print("Volume of a square:", cc.volume())
    print("Volume of a triangle:", tt.volume())

from abc import ABC
class geometric(ABC):
    def volume(self):
        #abstract method
        pass
class Rect(geometric):
    length = 4
    width = 6
    height= 6
    def volume(self):
        return self.length * self.width *self.height
class Sphere(geometric):
    radius = 8
    def volume(self):
        return 1.3 * 3.14 * self.radius * self.radius *self.radius
class Cube(geometric):
    Edge = 5
    def volume(self):
        return self.Edge * self.Edge *self.Edge
class triangle_3D:
    length = 5
    width = 4
    def volume(self):
            return 0.5 * self.length * self.width
    

rr = Rect()
ss = Sphere()
cc = Cube()
tt = triangle_3D()
print("Volume of a rectangle:", rr.volume())
print("Volume of a circle:", ss.volume())
print("Volume of a square:", cc.volume())
print("Volume of a triangle:", tt.volume())
INHERITANCE : inherit the function from one file to another file or reuse of function by passign different. Different Classes exhit relation betweet child class and parent or super class 
class ParentClass:
    a = 10
    b = 20
    def get_sum(self):
        print('Inside parent class')
        return self.a + self.b
class ChildClass(ParentClass):
    def get_sum(self):
        print('Inside child class')
        print(f'a = {self.a}, b = {self.b}')
        return super().get_sum()
c = ChildClass()
print(c.get_sum())
#Polymorphism 
Polymorphism condition of occurrence in different forms.
![image.png](attachment:image.png)


function  having different form called polymorphism 
e.g operator takes different forms

#ADDITION OPERATOR 
num1 = 1
num2 = 2
print(num1+num2)
str1 = "Python"
str2 = "Programming"
print(str1+" "+str2)
#FUNCTION POLYMORPHISM 
print(len("Programiz"))
print(len(["Python", "Java", "C"]))
print(len({"Name": "John", "Address": "Nepal"}))

#CLASS POLYMORPHISM 
class Cat:
    def __init__(self, name, age):
        self.name = name
        self.age = age

    def info(self):
        print(f"I am a cat. My name is {self.name}. I am {self.age} years old.")

    def make_sound(self):
        print("Meow")


class Dog:
    def __init__(self, name, age):
        self.name = name
        self.age = age

    def info(self):
        print(f"I am a dog. My name is {self.name}. I am {self.age} years old.")

    def make_sound(self):
        print("Bark")


cat1 = Cat("Kitty", 2.5)
dog1 = Dog("Fluffy", 4)

for animal in (cat1, dog1):
    animal.make_sound()
    animal.info()
    animal.make_sound()

#Method overriding 

from math import pi


class Shape:
    def __init__(self, name):
        self.name = name

    def area(self):
        pass

    def fact(self):
        return "I am a two-dimensional shape."

    def __str__(self):
        return self.name


class Square(Shape):
    def __init__(self, length):
        super().__init__("Square")
        self.length = length

    def area(self):
        return self.length**2

    def fact(self):
        return "Squares have each angle equal to 90 degrees."


class Circle(Shape):
    def __init__(self, radius):
        super().__init__("Circle")
        self.radius = radius

    def area(self):
        return pi*self.radius**2


a = Square(4)
b = Circle(7)
print(b)
print(b.fact())
print(a.fact())
print(b.area())

